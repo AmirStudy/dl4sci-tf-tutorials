{
 "cells": [
  {
   "cell_type": "markdown",
   "metadata": {
    "colab_type": "text",
    "id": "fTFj8ft5dlbS"
   },
   "source": [
    "##### Copyright 2018 The TensorFlow Authors."
   ]
  },
  {
   "cell_type": "code",
   "execution_count": 1,
   "metadata": {
    "cellView": "form",
    "colab": {},
    "colab_type": "code",
    "id": "lzyBOpYMdp3F"
   },
   "outputs": [],
   "source": [
    "#@title Licensed under the Apache License, Version 2.0 (the \"License\");\n",
    "# you may not use this file except in compliance with the License.\n",
    "# You may obtain a copy of the License at\n",
    "#\n",
    "# https://www.apache.org/licenses/LICENSE-2.0\n",
    "#\n",
    "# Unless required by applicable law or agreed to in writing, software\n",
    "# distributed under the License is distributed on an \"AS IS\" BASIS,\n",
    "# WITHOUT WARRANTIES OR CONDITIONS OF ANY KIND, either express or implied.\n",
    "# See the License for the specific language governing permissions and\n",
    "# limitations under the License."
   ]
  },
  {
   "cell_type": "code",
   "execution_count": 2,
   "metadata": {
    "cellView": "form",
    "colab": {},
    "colab_type": "code",
    "id": "m_x4KfSJ7Vt7"
   },
   "outputs": [],
   "source": [
    "#@title MIT License\n",
    "#\n",
    "# Copyright (c) 2017 François Chollet\n",
    "#\n",
    "# Permission is hereby granted, free of charge, to any person obtaining a\n",
    "# copy of this software and associated documentation files (the \"Software\"),\n",
    "# to deal in the Software without restriction, including without limitation\n",
    "# the rights to use, copy, modify, merge, publish, distribute, sublicense,\n",
    "# and/or sell copies of the Software, and to permit persons to whom the\n",
    "# Software is furnished to do so, subject to the following conditions:\n",
    "#\n",
    "# The above copyright notice and this permission notice shall be included in\n",
    "# all copies or substantial portions of the Software.\n",
    "#\n",
    "# THE SOFTWARE IS PROVIDED \"AS IS\", WITHOUT WARRANTY OF ANY KIND, EXPRESS OR\n",
    "# IMPLIED, INCLUDING BUT NOT LIMITED TO THE WARRANTIES OF MERCHANTABILITY,\n",
    "# FITNESS FOR A PARTICULAR PURPOSE AND NONINFRINGEMENT. IN NO EVENT SHALL\n",
    "# THE AUTHORS OR COPYRIGHT HOLDERS BE LIABLE FOR ANY CLAIM, DAMAGES OR OTHER\n",
    "# LIABILITY, WHETHER IN AN ACTION OF CONTRACT, TORT OR OTHERWISE, ARISING\n",
    "# FROM, OUT OF OR IN CONNECTION WITH THE SOFTWARE OR THE USE OR OTHER\n",
    "# DEALINGS IN THE SOFTWARE."
   ]
  },
  {
   "cell_type": "markdown",
   "metadata": {
    "colab_type": "text",
    "id": "C9HmC2T4ld5B"
   },
   "source": [
    "# Explore overfitting and underfitting"
   ]
  },
  {
   "cell_type": "markdown",
   "metadata": {
    "colab_type": "text",
    "id": "kRTxFhXAlnl1"
   },
   "source": [
    "<table class=\"tfo-notebook-buttons\" align=\"left\">\n",
    "  <td>\n",
    "    <a target=\"_blank\" href=\"https://www.tensorflow.org/beta/tutorials/keras/overfit_and_underfit\"><img src=\"https://www.tensorflow.org/images/tf_logo_32px.png\" />View on TensorFlow.org</a>\n",
    "  </td>\n",
    "  <td>\n",
    "    <a target=\"_blank\" href=\"https://colab.research.google.com/github/tensorflow/docs/blob/master/site/en/r2/tutorials/keras/overfit_and_underfit.ipynb\"><img src=\"https://www.tensorflow.org/images/colab_logo_32px.png\" />Run in Google Colab</a>\n",
    "  </td>\n",
    "  <td>\n",
    "    <a target=\"_blank\" href=\"https://github.com/tensorflow/docs/blob/master/site/en/r2/tutorials/keras/overfit_and_underfit.ipynb\"><img src=\"https://www.tensorflow.org/images/GitHub-Mark-32px.png\" />View source on GitHub</a>\n",
    "  </td>\n",
    "  <td>\n",
    "    <a href=\"https://storage.googleapis.com/tensorflow_docs/docs/site/en/r2/tutorials/keras/overfit_and_underfit.ipynb\"><img src=\"https://www.tensorflow.org/images/download_logo_32px.png\" />Download notebook</a>\n",
    "  </td>\n",
    "</table>"
   ]
  },
  {
   "cell_type": "markdown",
   "metadata": {
    "colab_type": "text",
    "id": "19rPukKZsPG6"
   },
   "source": [
    "As always, the code in this example will use the `tf.keras` API, which you can learn more about in the TensorFlow [Keras guide](https://www.tensorflow.org/guide/keras).\n",
    "\n",
    "In both of the previous examples—classifying movie reviews and predicting fuel efficiency—we saw that the accuracy of our model on the validation data would peak after training for a number of epochs, and would then start decreasing.\n",
    "\n",
    "In other words, our model would *overfit* to the training data. Learning how to deal with overfitting is important. Although it's often possible to achieve high accuracy on the *training set*, what we really want is to develop models that generalize well to a *testing set* (or data they haven't seen before).\n",
    "\n",
    "The opposite of overfitting is *underfitting*. Underfitting occurs when there is still room for improvement on the test data. This can happen for a number of reasons: If the model is not powerful enough, is over-regularized, or has simply not been trained long enough. This means the network has not learned the relevant patterns in the training data.\n",
    "\n",
    "If you train for too long though, the model will start to overfit and learn patterns from the training data that don't generalize to the test data. We need to strike a balance. Understanding how to train for an appropriate number of epochs as we'll explore below is a useful skill.\n",
    "\n",
    "To prevent overfitting, the best solution is to use more training data. A model trained on more data will naturally generalize better. When that is no longer possible, the next best solution is to use techniques like regularization. These place constraints on the quantity and type of information your model can store.  If a network can only afford to memorize a small number of patterns, the optimization process will force it to focus on the most prominent patterns, which have a better chance of generalizing well.\n",
    "\n",
    "In this notebook, we'll explore two common regularization techniques—weight regularization and dropout—and use them to improve our IMDB movie review classification notebook."
   ]
  },
  {
   "cell_type": "code",
   "execution_count": 3,
   "metadata": {},
   "outputs": [],
   "source": [
    "# Tell TF not to consume all GPU memory so you can run more than one notebook at once\n",
    "import os\n",
    "os.environ['TF_FORCE_GPU_ALLOW_GROWTH'] = 'true'"
   ]
  },
  {
   "cell_type": "code",
   "execution_count": 4,
   "metadata": {},
   "outputs": [
    {
     "name": "stdout",
     "output_type": "stream",
     "text": [
      "\u001b[1m\u001b[37mcgpu11\u001b[m  Wed Jul 10 16:45:39 2019\n",
      "\u001b[36m[0]\u001b[m \u001b[34mTesla V100-SXM2-16GB\u001b[m |\u001b[31m 39'C\u001b[m, \u001b[32m  0 %\u001b[m | \u001b[36m\u001b[1m\u001b[33m 1972\u001b[m / \u001b[33m16130\u001b[m MB | \u001b[1m\u001b[30msfarrell\u001b[m(\u001b[33m525M\u001b[m) \u001b[1m\u001b[30msfarrell\u001b[m(\u001b[33m529M\u001b[m) \u001b[1m\u001b[30msfarrell\u001b[m(\u001b[33m907M\u001b[m)\n"
     ]
    }
   ],
   "source": [
    "!gpustat"
   ]
  },
  {
   "cell_type": "code",
   "execution_count": 5,
   "metadata": {
    "colab": {},
    "colab_type": "code",
    "id": "5pZ8A2liqvgk"
   },
   "outputs": [
    {
     "name": "stdout",
     "output_type": "stream",
     "text": [
      "2.0.0-beta1\n"
     ]
    }
   ],
   "source": [
    "from __future__ import absolute_import, division, print_function, unicode_literals\n",
    "\n",
    "import tensorflow as tf\n",
    "from tensorflow import keras\n",
    "\n",
    "import numpy as np\n",
    "import matplotlib.pyplot as plt\n",
    "\n",
    "print(tf.__version__)"
   ]
  },
  {
   "cell_type": "markdown",
   "metadata": {
    "colab_type": "text",
    "id": "1cweoTiruj8O"
   },
   "source": [
    "## Download the IMDB dataset\n",
    "\n",
    "Rather than using an embedding as in the previous notebook, here we will multi-hot encode the sentences. This model will quickly overfit to the training set. It will be used to demonstrate when overfitting occurs, and how to fight it.\n",
    "\n",
    "Multi-hot-encoding our lists means turning them into vectors of 0s and 1s. Concretely, this would mean for instance turning the sequence  `[3, 5]` into a 10,000-dimensional vector that would be all-zeros except for indices 3 and 5, which would be ones."
   ]
  },
  {
   "cell_type": "code",
   "execution_count": 6,
   "metadata": {
    "colab": {},
    "colab_type": "code",
    "id": "QpzE4iqZtJly"
   },
   "outputs": [],
   "source": [
    "NUM_WORDS = 10000\n",
    "\n",
    "(train_data, train_labels), (test_data, test_labels) = keras.datasets.imdb.load_data(num_words=NUM_WORDS)\n",
    "\n",
    "def multi_hot_sequences(sequences, dimension):\n",
    "    # Create an all-zero matrix of shape (len(sequences), dimension)\n",
    "    results = np.zeros((len(sequences), dimension))\n",
    "    for i, word_indices in enumerate(sequences):\n",
    "        results[i, word_indices] = 1.0  # set specific indices of results[i] to 1s\n",
    "    return results\n",
    "\n",
    "\n",
    "train_data = multi_hot_sequences(train_data, dimension=NUM_WORDS)\n",
    "test_data = multi_hot_sequences(test_data, dimension=NUM_WORDS)"
   ]
  },
  {
   "cell_type": "markdown",
   "metadata": {
    "colab_type": "text",
    "id": "MzWVeXe3NBTn"
   },
   "source": [
    "Let's look at one of the resulting multi-hot vectors. The word indices are sorted by frequency, so it is expected that there are more 1-values near index zero, as we can see in this plot:"
   ]
  },
  {
   "cell_type": "code",
   "execution_count": 7,
   "metadata": {
    "colab": {},
    "colab_type": "code",
    "id": "71kr5rG4LkGM"
   },
   "outputs": [
    {
     "data": {
      "text/plain": [
       "[<matplotlib.lines.Line2D at 0x2aab2bc78128>]"
      ]
     },
     "execution_count": 7,
     "metadata": {},
     "output_type": "execute_result"
    },
    {
     "data": {
      "image/png": "[encoded data removed]",
      "text/plain": [
       "<Figure size 432x288 with 1 Axes>"
      ]
     },
     "metadata": {
      "needs_background": "light"
     },
     "output_type": "display_data"
    }
   ],
   "source": [
    "plt.plot(train_data[0])"
   ]
  },
  {
   "cell_type": "markdown",
   "metadata": {
    "colab_type": "text",
    "id": "lglk41MwvU5o"
   },
   "source": [
    "## Demonstrate overfitting\n",
    "\n",
    "The simplest way to prevent overfitting is to reduce the size of the model, i.e. the number of learnable parameters in the model (which is determined by the number of layers and the number of units per layer). In deep learning, the number of learnable parameters in a model is often referred to as the model's \"capacity\". Intuitively, a model with more parameters will have more \"memorization capacity\" and therefore will be able to easily learn a perfect dictionary-like mapping between training samples and their targets, a mapping without any generalization power, but this would be useless when making predictions on previously unseen data.\n",
    "\n",
    "Always keep this in mind: deep learning models tend to be good at fitting to the training data, but the real challenge is generalization, not fitting.\n",
    "\n",
    "On the other hand, if the network has limited memorization resources, it will not be able to learn the mapping as easily. To minimize its loss, it will have to learn compressed representations that have more predictive power. At the same time, if you make your model too small, it will have difficulty fitting to the training data. There is a balance between \"too much capacity\" and \"not enough capacity\".\n",
    "\n",
    "Unfortunately, there is no magical formula to determine the right size or architecture of your model (in terms of the number of layers, or the right size for each layer). You will have to experiment using a series of different architectures.\n",
    "\n",
    "To find an appropriate model size, it's best to start with relatively few layers and parameters, then begin increasing the size of the layers or adding new layers until you see diminishing returns on the validation loss. Let's try this on our movie review classification network.\n",
    "\n",
    "We'll create a simple model using only ```Dense``` layers as a baseline, then create smaller and larger versions, and compare them."
   ]
  },
  {
   "cell_type": "markdown",
   "metadata": {
    "colab_type": "text",
    "id": "_ReKHdC2EgVu"
   },
   "source": [
    "### Create a baseline model"
   ]
  },
  {
   "cell_type": "code",
   "execution_count": 8,
   "metadata": {
    "colab": {},
    "colab_type": "code",
    "id": "QKgdXPx9usBa"
   },
   "outputs": [
    {
     "name": "stdout",
     "output_type": "stream",
     "text": [
      "Model: \"sequential\"\n",
      "_________________________________________________________________\n",
      "Layer (type)                 Output Shape              Param #   \n",
      "=================================================================\n",
      "dense (Dense)                (None, 16)                160016    \n",
      "_________________________________________________________________\n",
      "dense_1 (Dense)              (None, 16)                272       \n",
      "_________________________________________________________________\n",
      "dense_2 (Dense)              (None, 1)                 17        \n",
      "=================================================================\n",
      "Total params: 160,305\n",
      "Trainable params: 160,305\n",
      "Non-trainable params: 0\n",
      "_________________________________________________________________\n"
     ]
    }
   ],
   "source": [
    "baseline_model = keras.Sequential([\n",
    "    # `input_shape` is only required here so that `.summary` works.\n",
    "    keras.layers.Dense(16, activation='relu', input_shape=(NUM_WORDS,)),\n",
    "    keras.layers.Dense(16, activation='relu'),\n",
    "    keras.layers.Dense(1, activation='sigmoid')\n",
    "])\n",
    "\n",
    "baseline_model.compile(optimizer='adam',\n",
    "                       loss='binary_crossentropy',\n",
    "                       metrics=['accuracy', 'binary_crossentropy'])\n",
    "\n",
    "baseline_model.summary()"
   ]
  },
  {
   "cell_type": "code",
   "execution_count": 9,
   "metadata": {
    "colab": {},
    "colab_type": "code",
    "id": "LqG3MXF5xSjR"
   },
   "outputs": [
    {
     "name": "stderr",
     "output_type": "stream",
     "text": [
      "WARNING: Logging before flag parsing goes to stderr.\n",
      "W0710 16:45:47.802896 46912496740800 deprecation.py:323] From /usr/common/software/tensorflow/gpu-tensorflow/2.0.0-beta-py36/lib/python3.6/site-packages/tensorflow/python/ops/math_grad.py:1250: add_dispatch_support.<locals>.wrapper (from tensorflow.python.ops.array_ops) is deprecated and will be removed in a future version.\n",
      "Instructions for updating:\n",
      "Use tf.where in 2.0, which has the same broadcast rule as np.where\n"
     ]
    },
    {
     "name": "stdout",
     "output_type": "stream",
     "text": [
      "Train on 25000 samples, validate on 25000 samples\n",
      "Epoch 1/20\n",
      "25000/25000 - 3s - loss: 0.4973 - accuracy: 0.7986 - binary_crossentropy: 0.4973 - val_loss: 0.3418 - val_accuracy: 0.8756 - val_binary_crossentropy: 0.3418\n",
      "Epoch 2/20\n",
      "25000/25000 - 2s - loss: 0.2549 - accuracy: 0.9108 - binary_crossentropy: 0.2549 - val_loss: 0.2867 - val_accuracy: 0.8875 - val_binary_crossentropy: 0.2867\n",
      "Epoch 3/20\n",
      "25000/25000 - 2s - loss: 0.1880 - accuracy: 0.9338 - binary_crossentropy: 0.1880 - val_loss: 0.2879 - val_accuracy: 0.8852 - val_binary_crossentropy: 0.2879\n",
      "Epoch 4/20\n",
      "25000/25000 - 2s - loss: 0.1536 - accuracy: 0.9482 - binary_crossentropy: 0.1536 - val_loss: 0.3104 - val_accuracy: 0.8775 - val_binary_crossentropy: 0.3104\n",
      "Epoch 5/20\n",
      "25000/25000 - 2s - loss: 0.1281 - accuracy: 0.9580 - binary_crossentropy: 0.1281 - val_loss: 0.3253 - val_accuracy: 0.8756 - val_binary_crossentropy: 0.3253\n",
      "Epoch 6/20\n",
      "25000/25000 - 3s - loss: 0.1085 - accuracy: 0.9661 - binary_crossentropy: 0.1085 - val_loss: 0.3515 - val_accuracy: 0.8719 - val_binary_crossentropy: 0.3515\n",
      "Epoch 7/20\n",
      "25000/25000 - 2s - loss: 0.0924 - accuracy: 0.9718 - binary_crossentropy: 0.0924 - val_loss: 0.3799 - val_accuracy: 0.8686 - val_binary_crossentropy: 0.3799\n",
      "Epoch 8/20\n",
      "25000/25000 - 3s - loss: 0.0799 - accuracy: 0.9776 - binary_crossentropy: 0.0799 - val_loss: 0.4121 - val_accuracy: 0.8646 - val_binary_crossentropy: 0.4121\n",
      "Epoch 9/20\n",
      "25000/25000 - 3s - loss: 0.0671 - accuracy: 0.9818 - binary_crossentropy: 0.0671 - val_loss: 0.4458 - val_accuracy: 0.8628 - val_binary_crossentropy: 0.4458\n",
      "Epoch 10/20\n",
      "25000/25000 - 3s - loss: 0.0589 - accuracy: 0.9854 - binary_crossentropy: 0.0589 - val_loss: 0.4829 - val_accuracy: 0.8597 - val_binary_crossentropy: 0.4829\n",
      "Epoch 11/20\n",
      "25000/25000 - 3s - loss: 0.0483 - accuracy: 0.9895 - binary_crossentropy: 0.0483 - val_loss: 0.5186 - val_accuracy: 0.8570 - val_binary_crossentropy: 0.5186\n",
      "Epoch 12/20\n",
      "25000/25000 - 3s - loss: 0.0403 - accuracy: 0.9924 - binary_crossentropy: 0.0403 - val_loss: 0.5560 - val_accuracy: 0.8564 - val_binary_crossentropy: 0.5560\n",
      "Epoch 13/20\n",
      "25000/25000 - 3s - loss: 0.0343 - accuracy: 0.9944 - binary_crossentropy: 0.0343 - val_loss: 0.6023 - val_accuracy: 0.8532 - val_binary_crossentropy: 0.6023\n",
      "Epoch 14/20\n",
      "25000/25000 - 3s - loss: 0.0280 - accuracy: 0.9961 - binary_crossentropy: 0.0280 - val_loss: 0.6387 - val_accuracy: 0.8516 - val_binary_crossentropy: 0.6387\n",
      "Epoch 15/20\n",
      "25000/25000 - 3s - loss: 0.0229 - accuracy: 0.9971 - binary_crossentropy: 0.0229 - val_loss: 0.6646 - val_accuracy: 0.8518 - val_binary_crossentropy: 0.6646\n",
      "Epoch 16/20\n",
      "25000/25000 - 3s - loss: 0.0184 - accuracy: 0.9985 - binary_crossentropy: 0.0184 - val_loss: 0.7058 - val_accuracy: 0.8499 - val_binary_crossentropy: 0.7058\n",
      "Epoch 17/20\n",
      "25000/25000 - 3s - loss: 0.0146 - accuracy: 0.9990 - binary_crossentropy: 0.0146 - val_loss: 0.7456 - val_accuracy: 0.8492 - val_binary_crossentropy: 0.7456\n",
      "Epoch 18/20\n",
      "25000/25000 - 3s - loss: 0.0110 - accuracy: 0.9994 - binary_crossentropy: 0.0110 - val_loss: 0.7877 - val_accuracy: 0.8492 - val_binary_crossentropy: 0.7877\n",
      "Epoch 19/20\n",
      "25000/25000 - 3s - loss: 0.0082 - accuracy: 0.9997 - binary_crossentropy: 0.0082 - val_loss: 0.8288 - val_accuracy: 0.8483 - val_binary_crossentropy: 0.8288\n",
      "Epoch 20/20\n",
      "25000/25000 - 2s - loss: 0.0062 - accuracy: 0.9998 - binary_crossentropy: 0.0062 - val_loss: 0.8598 - val_accuracy: 0.8487 - val_binary_crossentropy: 0.8598\n"
     ]
    }
   ],
   "source": [
    "baseline_history = baseline_model.fit(train_data,\n",
    "                                      train_labels,\n",
    "                                      epochs=20,\n",
    "                                      batch_size=512,\n",
    "                                      validation_data=(test_data, test_labels),\n",
    "                                      verbose=2)"
   ]
  },
  {
   "cell_type": "markdown",
   "metadata": {
    "colab_type": "text",
    "id": "L-DGRBbGxI6G"
   },
   "source": [
    "### Create a smaller model"
   ]
  },
  {
   "cell_type": "markdown",
   "metadata": {
    "colab_type": "text",
    "id": "SrfoVQheYSO5"
   },
   "source": [
    "Let's create a model with less hidden units to compare against the baseline model that we just created:"
   ]
  },
  {
   "cell_type": "code",
   "execution_count": 10,
   "metadata": {
    "colab": {},
    "colab_type": "code",
    "id": "jksi-XtaxDAh"
   },
   "outputs": [
    {
     "name": "stdout",
     "output_type": "stream",
     "text": [
      "Model: \"sequential_1\"\n",
      "_________________________________________________________________\n",
      "Layer (type)                 Output Shape              Param #   \n",
      "=================================================================\n",
      "dense_3 (Dense)              (None, 4)                 40004     \n",
      "_________________________________________________________________\n",
      "dense_4 (Dense)              (None, 4)                 20        \n",
      "_________________________________________________________________\n",
      "dense_5 (Dense)              (None, 1)                 5         \n",
      "=================================================================\n",
      "Total params: 40,029\n",
      "Trainable params: 40,029\n",
      "Non-trainable params: 0\n",
      "_________________________________________________________________\n"
     ]
    }
   ],
   "source": [
    "smaller_model = keras.Sequential([\n",
    "    keras.layers.Dense(4, activation='relu', input_shape=(NUM_WORDS,)),\n",
    "    keras.layers.Dense(4, activation='relu'),\n",
    "    keras.layers.Dense(1, activation='sigmoid')\n",
    "])\n",
    "\n",
    "smaller_model.compile(optimizer='adam',\n",
    "                      loss='binary_crossentropy',\n",
    "                      metrics=['accuracy', 'binary_crossentropy'])\n",
    "\n",
    "smaller_model.summary()"
   ]
  },
  {
   "cell_type": "markdown",
   "metadata": {
    "colab_type": "text",
    "id": "jbngCZliYdma"
   },
   "source": [
    "And train the model using the same data:"
   ]
  },
  {
   "cell_type": "code",
   "execution_count": 11,
   "metadata": {
    "colab": {},
    "colab_type": "code",
    "id": "Ofn1AwDhx-Fe"
   },
   "outputs": [
    {
     "name": "stdout",
     "output_type": "stream",
     "text": [
      "Train on 25000 samples, validate on 25000 samples\n",
      "Epoch 1/20\n",
      "25000/25000 - 3s - loss: 0.5930 - accuracy: 0.7254 - binary_crossentropy: 0.5930 - val_loss: 0.5242 - val_accuracy: 0.7708 - val_binary_crossentropy: 0.5242\n",
      "Epoch 2/20\n",
      "25000/25000 - 2s - loss: 0.4462 - accuracy: 0.8679 - binary_crossentropy: 0.4462 - val_loss: 0.4172 - val_accuracy: 0.8610 - val_binary_crossentropy: 0.4172\n",
      "Epoch 3/20\n",
      "25000/25000 - 2s - loss: 0.3303 - accuracy: 0.9130 - binary_crossentropy: 0.3303 - val_loss: 0.3424 - val_accuracy: 0.8773 - val_binary_crossentropy: 0.3424\n",
      "Epoch 4/20\n",
      "25000/25000 - 2s - loss: 0.2561 - accuracy: 0.9274 - binary_crossentropy: 0.2561 - val_loss: 0.3069 - val_accuracy: 0.8838 - val_binary_crossentropy: 0.3069\n",
      "Epoch 5/20\n",
      "25000/25000 - 2s - loss: 0.2136 - accuracy: 0.9367 - binary_crossentropy: 0.2136 - val_loss: 0.2936 - val_accuracy: 0.8854 - val_binary_crossentropy: 0.2936\n",
      "Epoch 6/20\n",
      "25000/25000 - 2s - loss: 0.1863 - accuracy: 0.9431 - binary_crossentropy: 0.1863 - val_loss: 0.2882 - val_accuracy: 0.8867 - val_binary_crossentropy: 0.2882\n",
      "Epoch 7/20\n",
      "25000/25000 - 2s - loss: 0.1652 - accuracy: 0.9507 - binary_crossentropy: 0.1652 - val_loss: 0.2903 - val_accuracy: 0.8856 - val_binary_crossentropy: 0.2903\n",
      "Epoch 8/20\n",
      "25000/25000 - 2s - loss: 0.1490 - accuracy: 0.9556 - binary_crossentropy: 0.1490 - val_loss: 0.2970 - val_accuracy: 0.8819 - val_binary_crossentropy: 0.2970\n",
      "Epoch 9/20\n",
      "25000/25000 - 2s - loss: 0.1351 - accuracy: 0.9607 - binary_crossentropy: 0.1351 - val_loss: 0.3121 - val_accuracy: 0.8758 - val_binary_crossentropy: 0.3121\n",
      "Epoch 10/20\n",
      "25000/25000 - 2s - loss: 0.1226 - accuracy: 0.9652 - binary_crossentropy: 0.1226 - val_loss: 0.3156 - val_accuracy: 0.8780 - val_binary_crossentropy: 0.3156\n",
      "Epoch 11/20\n",
      "25000/25000 - 2s - loss: 0.1104 - accuracy: 0.9691 - binary_crossentropy: 0.1104 - val_loss: 0.3279 - val_accuracy: 0.8762 - val_binary_crossentropy: 0.3279\n",
      "Epoch 12/20\n",
      "25000/25000 - 2s - loss: 0.0989 - accuracy: 0.9743 - binary_crossentropy: 0.0989 - val_loss: 0.3404 - val_accuracy: 0.8747 - val_binary_crossentropy: 0.3404\n",
      "Epoch 13/20\n",
      "25000/25000 - 2s - loss: 0.0883 - accuracy: 0.9778 - binary_crossentropy: 0.0883 - val_loss: 0.3554 - val_accuracy: 0.8721 - val_binary_crossentropy: 0.3554\n",
      "Epoch 14/20\n",
      "25000/25000 - 2s - loss: 0.0788 - accuracy: 0.9824 - binary_crossentropy: 0.0788 - val_loss: 0.3720 - val_accuracy: 0.8702 - val_binary_crossentropy: 0.3720\n",
      "Epoch 15/20\n",
      "25000/25000 - 2s - loss: 0.0709 - accuracy: 0.9855 - binary_crossentropy: 0.0709 - val_loss: 0.3854 - val_accuracy: 0.8680 - val_binary_crossentropy: 0.3854\n",
      "Epoch 16/20\n",
      "25000/25000 - 2s - loss: 0.0632 - accuracy: 0.9877 - binary_crossentropy: 0.0632 - val_loss: 0.3982 - val_accuracy: 0.8667 - val_binary_crossentropy: 0.3982\n",
      "Epoch 17/20\n",
      "25000/25000 - 2s - loss: 0.0563 - accuracy: 0.9902 - binary_crossentropy: 0.0563 - val_loss: 0.4129 - val_accuracy: 0.8656 - val_binary_crossentropy: 0.4129\n",
      "Epoch 18/20\n",
      "25000/25000 - 2s - loss: 0.0507 - accuracy: 0.9918 - binary_crossentropy: 0.0507 - val_loss: 0.4341 - val_accuracy: 0.8633 - val_binary_crossentropy: 0.4341\n",
      "Epoch 19/20\n",
      "25000/25000 - 2s - loss: 0.0456 - accuracy: 0.9935 - binary_crossentropy: 0.0456 - val_loss: 0.4435 - val_accuracy: 0.8633 - val_binary_crossentropy: 0.4435\n",
      "Epoch 20/20\n",
      "25000/25000 - 2s - loss: 0.0411 - accuracy: 0.9946 - binary_crossentropy: 0.0411 - val_loss: 0.4576 - val_accuracy: 0.8628 - val_binary_crossentropy: 0.4576\n"
     ]
    }
   ],
   "source": [
    "smaller_history = smaller_model.fit(train_data,\n",
    "                                    train_labels,\n",
    "                                    epochs=20,\n",
    "                                    batch_size=512,\n",
    "                                    validation_data=(test_data, test_labels),\n",
    "                                    verbose=2)"
   ]
  },
  {
   "cell_type": "markdown",
   "metadata": {
    "colab_type": "text",
    "id": "vIPuf23FFaVn"
   },
   "source": [
    "### Create a bigger model\n",
    "\n",
    "As an exercise, you can create an even larger model, and see how quickly it begins overfitting.  Next, let's add to this benchmark a network that has much more capacity, far more than the problem would warrant:"
   ]
  },
  {
   "cell_type": "code",
   "execution_count": 12,
   "metadata": {
    "colab": {},
    "colab_type": "code",
    "id": "ghQwwqwqvQM9"
   },
   "outputs": [
    {
     "name": "stdout",
     "output_type": "stream",
     "text": [
      "Model: \"sequential_2\"\n",
      "_________________________________________________________________\n",
      "Layer (type)                 Output Shape              Param #   \n",
      "=================================================================\n",
      "dense_6 (Dense)              (None, 512)               5120512   \n",
      "_________________________________________________________________\n",
      "dense_7 (Dense)              (None, 512)               262656    \n",
      "_________________________________________________________________\n",
      "dense_8 (Dense)              (None, 1)                 513       \n",
      "=================================================================\n",
      "Total params: 5,383,681\n",
      "Trainable params: 5,383,681\n",
      "Non-trainable params: 0\n",
      "_________________________________________________________________\n"
     ]
    }
   ],
   "source": [
    "bigger_model = keras.models.Sequential([\n",
    "    keras.layers.Dense(512, activation='relu', input_shape=(NUM_WORDS,)),\n",
    "    keras.layers.Dense(512, activation='relu'),\n",
    "    keras.layers.Dense(1, activation='sigmoid')\n",
    "])\n",
    "\n",
    "bigger_model.compile(optimizer='adam',\n",
    "                     loss='binary_crossentropy',\n",
    "                     metrics=['accuracy','binary_crossentropy'])\n",
    "\n",
    "bigger_model.summary()"
   ]
  },
  {
   "cell_type": "markdown",
   "metadata": {
    "colab_type": "text",
    "id": "D-d-i5DaYmr7"
   },
   "source": [
    "And, again, train the model using the same data:"
   ]
  },
  {
   "cell_type": "code",
   "execution_count": 13,
   "metadata": {
    "colab": {},
    "colab_type": "code",
    "id": "U1A99dhqvepf"
   },
   "outputs": [
    {
     "name": "stdout",
     "output_type": "stream",
     "text": [
      "Train on 25000 samples, validate on 25000 samples\n",
      "Epoch 1/20\n",
      "25000/25000 - 3s - loss: 0.3415 - accuracy: 0.8558 - binary_crossentropy: 0.3415 - val_loss: 0.2941 - val_accuracy: 0.8809 - val_binary_crossentropy: 0.2941\n",
      "Epoch 2/20\n",
      "25000/25000 - 2s - loss: 0.1423 - accuracy: 0.9479 - binary_crossentropy: 0.1423 - val_loss: 0.3354 - val_accuracy: 0.8711 - val_binary_crossentropy: 0.3354\n",
      "Epoch 3/20\n",
      "25000/25000 - 2s - loss: 0.0470 - accuracy: 0.9862 - binary_crossentropy: 0.0470 - val_loss: 0.4595 - val_accuracy: 0.8660 - val_binary_crossentropy: 0.4595\n",
      "Epoch 4/20\n",
      "25000/25000 - 2s - loss: 0.0081 - accuracy: 0.9986 - binary_crossentropy: 0.0081 - val_loss: 0.5728 - val_accuracy: 0.8677 - val_binary_crossentropy: 0.5728\n",
      "Epoch 5/20\n",
      "25000/25000 - 2s - loss: 0.0011 - accuracy: 1.0000 - binary_crossentropy: 0.0011 - val_loss: 0.6649 - val_accuracy: 0.8700 - val_binary_crossentropy: 0.6649\n",
      "Epoch 6/20\n",
      "25000/25000 - 2s - loss: 2.5871e-04 - accuracy: 1.0000 - binary_crossentropy: 2.5871e-04 - val_loss: 0.7048 - val_accuracy: 0.8696 - val_binary_crossentropy: 0.7048\n",
      "Epoch 7/20\n",
      "25000/25000 - 2s - loss: 1.4949e-04 - accuracy: 1.0000 - binary_crossentropy: 1.4949e-04 - val_loss: 0.7337 - val_accuracy: 0.8697 - val_binary_crossentropy: 0.7337\n",
      "Epoch 8/20\n",
      "25000/25000 - 2s - loss: 1.0373e-04 - accuracy: 1.0000 - binary_crossentropy: 1.0373e-04 - val_loss: 0.7579 - val_accuracy: 0.8697 - val_binary_crossentropy: 0.7579\n",
      "Epoch 9/20\n",
      "25000/25000 - 2s - loss: 7.5406e-05 - accuracy: 1.0000 - binary_crossentropy: 7.5406e-05 - val_loss: 0.7790 - val_accuracy: 0.8697 - val_binary_crossentropy: 0.7790\n",
      "Epoch 10/20\n",
      "25000/25000 - 2s - loss: 5.6424e-05 - accuracy: 1.0000 - binary_crossentropy: 5.6424e-05 - val_loss: 0.7988 - val_accuracy: 0.8699 - val_binary_crossentropy: 0.7988\n",
      "Epoch 11/20\n",
      "25000/25000 - 2s - loss: 4.3051e-05 - accuracy: 1.0000 - binary_crossentropy: 4.3051e-05 - val_loss: 0.8174 - val_accuracy: 0.8697 - val_binary_crossentropy: 0.8174\n",
      "Epoch 12/20\n",
      "25000/25000 - 2s - loss: 3.3764e-05 - accuracy: 1.0000 - binary_crossentropy: 3.3764e-05 - val_loss: 0.8339 - val_accuracy: 0.8697 - val_binary_crossentropy: 0.8339\n",
      "Epoch 13/20\n",
      "25000/25000 - 2s - loss: 2.6829e-05 - accuracy: 1.0000 - binary_crossentropy: 2.6829e-05 - val_loss: 0.8484 - val_accuracy: 0.8698 - val_binary_crossentropy: 0.8484\n",
      "Epoch 14/20\n",
      "25000/25000 - 2s - loss: 2.1837e-05 - accuracy: 1.0000 - binary_crossentropy: 2.1837e-05 - val_loss: 0.8629 - val_accuracy: 0.8695 - val_binary_crossentropy: 0.8629\n",
      "Epoch 15/20\n",
      "25000/25000 - 2s - loss: 1.8015e-05 - accuracy: 1.0000 - binary_crossentropy: 1.8015e-05 - val_loss: 0.8754 - val_accuracy: 0.8696 - val_binary_crossentropy: 0.8754\n",
      "Epoch 16/20\n",
      "25000/25000 - 2s - loss: 1.5130e-05 - accuracy: 1.0000 - binary_crossentropy: 1.5130e-05 - val_loss: 0.8872 - val_accuracy: 0.8697 - val_binary_crossentropy: 0.8872\n",
      "Epoch 17/20\n",
      "25000/25000 - 2s - loss: 1.2823e-05 - accuracy: 1.0000 - binary_crossentropy: 1.2823e-05 - val_loss: 0.8981 - val_accuracy: 0.8698 - val_binary_crossentropy: 0.8981\n",
      "Epoch 18/20\n",
      "25000/25000 - 2s - loss: 1.1009e-05 - accuracy: 1.0000 - binary_crossentropy: 1.1009e-05 - val_loss: 0.9080 - val_accuracy: 0.8696 - val_binary_crossentropy: 0.9080\n",
      "Epoch 19/20\n",
      "25000/25000 - 3s - loss: 9.5508e-06 - accuracy: 1.0000 - binary_crossentropy: 9.5508e-06 - val_loss: 0.9172 - val_accuracy: 0.8697 - val_binary_crossentropy: 0.9172\n",
      "Epoch 20/20\n",
      "25000/25000 - 2s - loss: 8.3541e-06 - accuracy: 1.0000 - binary_crossentropy: 8.3541e-06 - val_loss: 0.9260 - val_accuracy: 0.8694 - val_binary_crossentropy: 0.9260\n"
     ]
    }
   ],
   "source": [
    "bigger_history = bigger_model.fit(train_data, train_labels,\n",
    "                                  epochs=20,\n",
    "                                  batch_size=512,\n",
    "                                  validation_data=(test_data, test_labels),\n",
    "                                  verbose=2)"
   ]
  },
  {
   "cell_type": "markdown",
   "metadata": {
    "colab_type": "text",
    "id": "Fy3CMUZpzH3d"
   },
   "source": [
    "### Plot the training and validation loss\n",
    "\n",
    "<!--TODO(markdaoust): This should be a one-liner with tensorboard -->"
   ]
  },
  {
   "cell_type": "markdown",
   "metadata": {
    "colab_type": "text",
    "id": "HSlo1F4xHuuM"
   },
   "source": [
    "The solid lines show the training loss, and the dashed lines show the validation loss (remember: a lower validation loss indicates a better model). Here, the smaller network begins overfitting later than the baseline model (after 6 epochs rather than 4) and its performance degrades much more slowly once it starts overfitting."
   ]
  },
  {
   "cell_type": "code",
   "execution_count": 14,
   "metadata": {
    "colab": {},
    "colab_type": "code",
    "id": "0XmKDtOWzOpk"
   },
   "outputs": [
    {
     "data": {
      "image/png": "[encoded data removed]",
      "text/plain": [
       "<Figure size 1152x720 with 1 Axes>"
      ]
     },
     "metadata": {
      "needs_background": "light"
     },
     "output_type": "display_data"
    }
   ],
   "source": [
    "def plot_history(histories, key='binary_crossentropy'):\n",
    "    plt.figure(figsize=(16,10))\n",
    "\n",
    "    for name, history in histories:\n",
    "        val = plt.plot(history.epoch, history.history['val_'+key],\n",
    "                       '--', label=name.title()+' Val')\n",
    "        plt.plot(history.epoch, history.history[key], color=val[0].get_color(),\n",
    "                 label=name.title()+' Train')\n",
    "\n",
    "    plt.xlabel('Epochs')\n",
    "    plt.ylabel(key.replace('_',' ').title())\n",
    "    plt.legend()\n",
    "\n",
    "    plt.xlim([0,max(history.epoch)])\n",
    "\n",
    "\n",
    "plot_history([('baseline', baseline_history),\n",
    "              ('smaller', smaller_history),\n",
    "              ('bigger', bigger_history)])"
   ]
  },
  {
   "cell_type": "markdown",
   "metadata": {
    "colab_type": "text",
    "id": "Bi6hBhdnSfjA"
   },
   "source": [
    "Notice that the larger network begins overfitting almost right away, after just one epoch, and overfits much more severely. The more capacity the network has, the quicker it will be able to model the training data (resulting in a low training loss), but the more susceptible it is to overfitting (resulting in a large difference between the training and validation loss)."
   ]
  },
  {
   "cell_type": "markdown",
   "metadata": {
    "colab_type": "text",
    "id": "ASdv7nsgEFhx"
   },
   "source": [
    "## Strategies to prevent overfitting"
   ]
  },
  {
   "cell_type": "markdown",
   "metadata": {
    "colab_type": "text",
    "id": "4rHoVWcswFLa"
   },
   "source": [
    "### Add weight regularization\n",
    "\n"
   ]
  },
  {
   "cell_type": "markdown",
   "metadata": {
    "colab_type": "text",
    "id": "kRxWepNawbBK"
   },
   "source": [
    "You may be familiar with Occam's Razor principle: given two explanations for something, the explanation most likely to be correct is the \"simplest\" one, the one that makes the least amount of assumptions. This also applies to the models learned by neural networks: given some training data and a network architecture, there are multiple sets of weights values (multiple models) that could explain the data, and simpler models are less likely to overfit than complex ones.\n",
    "\n",
    "A \"simple model\" in this context is a model where the distribution of parameter values has less entropy (or a model with fewer parameters altogether, as we saw in the section above). Thus a common way to mitigate overfitting is to put constraints on the complexity of a network by forcing its weights only to take small values, which makes the distribution of weight values more \"regular\". This is called \"weight regularization\", and it is done by adding to the loss function of the network a cost associated with having large weights. This cost comes in two flavors:\n",
    "\n",
    "* [L1 regularization](https://developers.google.com/machine-learning/glossary/#L1_regularization), where the cost added is proportional to the absolute value of the weights coefficients (i.e. to what is called the \"L1 norm\" of the weights).\n",
    "\n",
    "* [L2 regularization](https://developers.google.com/machine-learning/glossary/#L2_regularization), where the cost added is proportional to the square of the value of the weights coefficients (i.e. to what is called the squared \"L2 norm\" of the weights). L2 regularization is also called weight decay in the context of neural networks. Don't let the different name confuse you: weight decay is mathematically the exact same as L2 regularization.\n",
    "\n",
    "L1 regularization introduces sparsity to make some of your weight parameters zero. L2 regularization will penalize the weights parameters without making them sparse—one reason why L2 is more common.\n",
    "\n",
    "In `tf.keras`, weight regularization is added by passing weight regularizer instances to layers as keyword arguments. Let's add L2 weight regularization now."
   ]
  },
  {
   "cell_type": "code",
   "execution_count": null,
   "metadata": {
    "colab": {},
    "colab_type": "code",
    "id": "HFGmcwduwVyQ"
   },
   "outputs": [
    {
     "name": "stdout",
     "output_type": "stream",
     "text": [
      "Train on 25000 samples, validate on 25000 samples\n",
      "Epoch 1/20\n",
      "25000/25000 - 3s - loss: 0.4984 - accuracy: 0.8126 - binary_crossentropy: 0.4564 - val_loss: 0.3609 - val_accuracy: 0.8775 - val_binary_crossentropy: 0.3167\n",
      "Epoch 2/20\n",
      "25000/25000 - 2s - loss: 0.2869 - accuracy: 0.9121 - binary_crossentropy: 0.2396 - val_loss: 0.3337 - val_accuracy: 0.8878 - val_binary_crossentropy: 0.2841\n",
      "Epoch 3/20\n",
      "25000/25000 - 2s - loss: 0.2389 - accuracy: 0.9336 - binary_crossentropy: 0.1873 - val_loss: 0.3409 - val_accuracy: 0.8851 - val_binary_crossentropy: 0.2879\n",
      "Epoch 4/20\n",
      "25000/25000 - 2s - loss: 0.2189 - accuracy: 0.9424 - binary_crossentropy: 0.1642 - val_loss: 0.3614 - val_accuracy: 0.8778 - val_binary_crossentropy: 0.3055\n",
      "Epoch 5/20\n",
      "25000/25000 - 2s - loss: 0.2036 - accuracy: 0.9505 - binary_crossentropy: 0.1467 - val_loss: 0.3738 - val_accuracy: 0.8756 - val_binary_crossentropy: 0.3161\n",
      "Epoch 6/20\n",
      "25000/25000 - 2s - loss: 0.1922 - accuracy: 0.9558 - binary_crossentropy: 0.1334 - val_loss: 0.3892 - val_accuracy: 0.8737 - val_binary_crossentropy: 0.3300\n",
      "Epoch 7/20\n",
      "25000/25000 - 2s - loss: 0.1853 - accuracy: 0.9586 - binary_crossentropy: 0.1253 - val_loss: 0.4130 - val_accuracy: 0.8698 - val_binary_crossentropy: 0.3523\n",
      "Epoch 8/20\n",
      "25000/25000 - 2s - loss: 0.1794 - accuracy: 0.9600 - binary_crossentropy: 0.1181 - val_loss: 0.4272 - val_accuracy: 0.8687 - val_binary_crossentropy: 0.3655\n",
      "Epoch 9/20\n",
      "25000/25000 - 2s - loss: 0.1743 - accuracy: 0.9612 - binary_crossentropy: 0.1117 - val_loss: 0.4461 - val_accuracy: 0.8635 - val_binary_crossentropy: 0.3832\n",
      "Epoch 10/20\n",
      "25000/25000 - 2s - loss: 0.1698 - accuracy: 0.9645 - binary_crossentropy: 0.1064 - val_loss: 0.4584 - val_accuracy: 0.8649 - val_binary_crossentropy: 0.3946\n",
      "Epoch 11/20\n",
      "25000/25000 - 2s - loss: 0.1653 - accuracy: 0.9665 - binary_crossentropy: 0.1011 - val_loss: 0.4729 - val_accuracy: 0.8624 - val_binary_crossentropy: 0.4082\n",
      "Epoch 12/20\n",
      "25000/25000 - 2s - loss: 0.1622 - accuracy: 0.9668 - binary_crossentropy: 0.0972 - val_loss: 0.4890 - val_accuracy: 0.8607 - val_binary_crossentropy: 0.4237\n",
      "Epoch 13/20\n",
      "25000/25000 - 2s - loss: 0.1578 - accuracy: 0.9702 - binary_crossentropy: 0.0923 - val_loss: 0.5019 - val_accuracy: 0.8607 - val_binary_crossentropy: 0.4362\n",
      "Epoch 14/20\n",
      "25000/25000 - 2s - loss: 0.1562 - accuracy: 0.9699 - binary_crossentropy: 0.0900 - val_loss: 0.5210 - val_accuracy: 0.8568 - val_binary_crossentropy: 0.4545\n",
      "Epoch 15/20\n",
      "25000/25000 - 2s - loss: 0.1564 - accuracy: 0.9697 - binary_crossentropy: 0.0897 - val_loss: 0.5381 - val_accuracy: 0.8582 - val_binary_crossentropy: 0.4709\n",
      "Epoch 16/20\n"
     ]
    }
   ],
   "source": [
    "l2_model = keras.models.Sequential([\n",
    "    keras.layers.Dense(16, kernel_regularizer=keras.regularizers.l2(0.001),\n",
    "                       activation='relu', input_shape=(NUM_WORDS,)),\n",
    "    keras.layers.Dense(16, kernel_regularizer=keras.regularizers.l2(0.001),\n",
    "                       activation='relu'),\n",
    "    keras.layers.Dense(1, activation='sigmoid')\n",
    "])\n",
    "\n",
    "l2_model.compile(optimizer='adam',\n",
    "                 loss='binary_crossentropy',\n",
    "                 metrics=['accuracy', 'binary_crossentropy'])\n",
    "\n",
    "l2_model_history = l2_model.fit(train_data, train_labels,\n",
    "                                epochs=20,\n",
    "                                batch_size=512,\n",
    "                                validation_data=(test_data, test_labels),\n",
    "                                verbose=2)"
   ]
  },
  {
   "cell_type": "markdown",
   "metadata": {
    "colab_type": "text",
    "id": "bUUHoXb7w-_C"
   },
   "source": [
    "```l2(0.001)``` means that every coefficient in the weight matrix of the layer will add ```0.001 * weight_coefficient_value**2``` to the total loss of the network. Note that because this penalty is only added at training time, the loss for this network will be much higher at training than at test time.\n",
    "\n",
    "Here's the impact of our L2 regularization penalty:"
   ]
  },
  {
   "cell_type": "code",
   "execution_count": null,
   "metadata": {
    "colab": {},
    "colab_type": "code",
    "id": "7wkfLyxBZdh_"
   },
   "outputs": [],
   "source": [
    "plot_history([('baseline', baseline_history),\n",
    "              ('l2', l2_model_history)])"
   ]
  },
  {
   "cell_type": "markdown",
   "metadata": {
    "colab_type": "text",
    "id": "Kx1YHMsVxWjP"
   },
   "source": [
    "As you can see, the L2 regularized model has become much more resistant to overfitting than the baseline model, even though both models have the same number of parameters."
   ]
  },
  {
   "cell_type": "markdown",
   "metadata": {
    "colab_type": "text",
    "id": "HmnBNOOVxiG8"
   },
   "source": [
    "### Add dropout\n",
    "\n",
    "Dropout is one of the most effective and most commonly used regularization techniques for neural networks, developed by Hinton and his students at the University of Toronto. Dropout, applied to a layer, consists of randomly \"dropping out\" (i.e. set to zero) a number of output features of the layer during training. Let's say a given layer would normally have returned a vector [0.2, 0.5, 1.3, 0.8, 1.1] for a given input sample during training; after applying dropout, this vector will have a few zero entries distributed at random, e.g. [0, 0.5,\n",
    "1.3, 0, 1.1]. The \"dropout rate\" is the fraction of the features that are being zeroed-out; it is usually set between 0.2 and 0.5. At test time, no units are dropped out, and instead the layer's output values are scaled down by a factor equal to the dropout rate, so as to balance for the fact that more units are active than at training time.\n",
    "\n",
    "In tf.keras you can introduce dropout in a network via the Dropout layer, which gets applied to the output of layer right before.\n",
    "\n",
    "Let's add two Dropout layers in our IMDB network to see how well they do at reducing overfitting:"
   ]
  },
  {
   "cell_type": "code",
   "execution_count": null,
   "metadata": {
    "colab": {},
    "colab_type": "code",
    "id": "OFEYvtrHxSWS"
   },
   "outputs": [],
   "source": [
    "dpt_model = keras.models.Sequential([\n",
    "    keras.layers.Dense(16, activation='relu', input_shape=(NUM_WORDS,)),\n",
    "    keras.layers.Dropout(0.5),\n",
    "    keras.layers.Dense(16, activation='relu'),\n",
    "    keras.layers.Dropout(0.5),\n",
    "    keras.layers.Dense(1, activation='sigmoid')\n",
    "])\n",
    "\n",
    "dpt_model.compile(optimizer='adam',\n",
    "                  loss='binary_crossentropy',\n",
    "                  metrics=['accuracy','binary_crossentropy'])\n",
    "\n",
    "dpt_model_history = dpt_model.fit(train_data, train_labels,\n",
    "                                  epochs=20,\n",
    "                                  batch_size=512,\n",
    "                                  validation_data=(test_data, test_labels),\n",
    "                                  verbose=2)"
   ]
  },
  {
   "cell_type": "code",
   "execution_count": null,
   "metadata": {
    "colab": {},
    "colab_type": "code",
    "id": "SPZqwVchx5xp"
   },
   "outputs": [],
   "source": [
    "plot_history([('baseline', baseline_history),\n",
    "              ('dropout', dpt_model_history)])"
   ]
  },
  {
   "cell_type": "markdown",
   "metadata": {
    "colab_type": "text",
    "id": "gjfnkEeQyAFG"
   },
   "source": [
    "Adding dropout is a clear improvement over the baseline model.\n",
    "\n",
    "To recap: here are the most common ways to prevent overfitting in neural networks:\n",
    "\n",
    "* Get more training data.\n",
    "* Reduce the capacity of the network.\n",
    "* Add weight regularization.\n",
    "* Add dropout.\n",
    "\n",
    "And two important approaches not covered in this guide are data-augmentation and batch normalization."
   ]
  }
 ],
 "metadata": {
  "accelerator": "GPU",
  "colab": {
   "collapsed_sections": [
    "fTFj8ft5dlbS"
   ],
   "name": "overfit-and-underfit.ipynb",
   "private_outputs": true,
   "provenance": [],
   "toc_visible": true,
   "version": "0.3.2"
  },
  "kernelspec": {
   "display_name": "tensorflow-gpu/2.0.0-beta-py36",
   "language": "python",
   "name": "tensorflow_gpu_2.0.0-beta-py36"
  },
  "language_info": {
   "codemirror_mode": {
    "name": "ipython",
    "version": 3
   },
   "file_extension": ".py",
   "mimetype": "text/x-python",
   "name": "python",
   "nbconvert_exporter": "python",
   "pygments_lexer": "ipython3",
   "version": "3.6.8"
  }
 },
 "nbformat": 4,
 "nbformat_minor": 2
}
